class Pathfinder:
    def __init__(self, maze, c, h):
        """
        maze : Αντικείμενο τύπου Maze (από Μέρος 1)
        c : Συνάρτηση που υπολογίζει την πραγματική απόσταση μεταξύ δύο σημείων
        h : Συνάρτηση που υπολογίζει την ευριστική μεταξύ δύο σημείων
        """
        self.maze = maze
        self.vis = visualization(maze.S, maze.F)
        self.path = []
        self.cost = c
        self.heuristic = h
        
        
    ### Fill the path list with the coordinates of each point in the path from maze.S to maze.F
    ### Your code here
        openset = set()
        closedset = set()
        #Current point is the starting point
        curent = maze.S
        #Add the starting point to the open set
        openset.add(curent)
        #While the open set is not empty
        gcost={}
        gcost[maze.S]=0
        fcost={}
        fcost[maze.S]=self.heuristic(maze.S,maze.F)
        cameFrom={}
        while openset:
            #-------------------------------------------------------------------------------------
            #PART1: if you want to make a gif please uncomment the following 2 lines and the part2
            #-------------------------------------------------------------------------------------
            #self.vis.draw_step(maze, openset, closedset)         
                                                                       
            #self.vis.create_gif()                                
                                                                  
            #------------------------------------------END OF PART1 ----------------------------
            
            #Find the item in the open set with the lowest G + H score
            curent=None
            for block in openset:
                if(curent==None or fcost[block] < fcost[curent]):
                    
                    curent=block

            #If it is the item we want, retrace the path and return it
            if curent == maze.F:
                cell=maze.F
                self.path.append(cell)
                while(cell!=maze.S):
                    self.path.append(cameFrom[cell])
                    cell=cameFrom[cell]
                #-------------------------------------------------------------------------------------
                #PART2: if you want to make a gif please uncomment the following 2 lines and the part3
                #-------------------------------------------------------------------------------------
                #self.vis.add_path(self.path)
                #------------------------------END OF PART2-------------------------------------------
                break
            #Remove the item from the open set
            if (curent==None):
                print("Path does not exist!")
                break
            else:
                
                openset.remove(curent)
                closedset.add(curent)
            
            
            #Add it to the closed set
            
            #Loop through the node's children/siblings
            for node in Pathfinder.next_neightbours(maze, N, curent):
                #If it is already in the closed set, skip it
                if node in closedset:
                    continue
                #Otherwise if it is already in the open set
                if node in openset:
                    #Check if we beat the G score
                    (x,y)=node 
                    
                    new_g = gcost[curent] + self.cost(curent,node) 
                    
                    if gcost[node] > new_g:
                        #If so, update the node to have a new parent
                        
                        del gcost[node]
                        gcost[node]=gcost[curent] + self.cost(curent,node)
                        del cameFrom[node]
                        cameFrom[node]=curent
                else :
                    #If it isn't in the open set, calculate the G and H score for the node
                    
                    (x,y)=node
                    
                    gcost[node]=gcost[curent]+self.cost(node,curent)
                    
                    
                    fcost[node]=gcost[node]+self.heuristic(node,maze.F)
                    #Set the parent to our current item
                    
                    cameFrom[node]=curent
                    #Add it to the set
                    openset.add(node)
            
        self.exp=len(closedset)    
                
          
        
        
    def valid(k,N):
        (x,y)=k
        if  ((x<N) and (x>0) and (y<N) and (y>0) ) :
            return True  
        else :
            return False    
    def distance(heuristic, cost, current):
        (x,y)=current
        return heuristic(current,maze.F)+ cost(x,y)
    def next_neightbours(maze,N,curent): 
          (i,j)=curent
          N=maze.N
          (x,y)=(i-1,j)
          l=[]
          
          if(Pathfinder.valid((x,y),N)  and (maze.grid[(x,y)]==True or (x,y)== maze.F) ):
            l.append((x,y))
          (x,y)=(i+1,j)
          
          if( Pathfinder.valid((x,y),N)  and (maze.grid[(x,y)]==True or (x,y)== maze.F)):
            l.append((x,y))
          (x,y)=(i,j-1)
          
          if(Pathfinder.valid((x,y),N )and (maze.grid[(x,y)]==True or (x,y)== maze.F)):
            l.append((x,y))
          (x,y)=(i,j+1)
         
          if(Pathfinder.valid((x,y),N)  and (maze.grid[(x,y)]==True or (x,y)== maze.F)):
            l.append((x,y))
          
          return l
    def get_path(self):
        return self.path
    
    def get_exp(self):
        return self.exp